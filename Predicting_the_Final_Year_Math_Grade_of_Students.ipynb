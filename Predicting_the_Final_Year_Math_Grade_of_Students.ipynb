{
  "nbformat": 4,
  "nbformat_minor": 0,
  "metadata": {
    "colab": {
      "name": "Predicting the Final Year Math Grade of Students.ipynb",
      "provenance": [],
      "authorship_tag": "ABX9TyOFT68wPE+bomK2rJHUCoF8",
      "include_colab_link": true
    },
    "kernelspec": {
      "name": "python3",
      "display_name": "Python 3"
    }
  },
  "cells": [
    {
      "cell_type": "markdown",
      "metadata": {
        "id": "view-in-github",
        "colab_type": "text"
      },
      "source": [
        "<a href=\"https://colab.research.google.com/github/hosefg/all-regression/blob/main/Predicting_the_Final_Year_Math_Grade_of_Students.ipynb\" target=\"_parent\"><img src=\"https://colab.research.google.com/assets/colab-badge.svg\" alt=\"Open In Colab\"/></a>"
      ]
    },
    {
      "cell_type": "markdown",
      "metadata": {
        "id": "ci4YTrRlSc2D"
      },
      "source": [
        "## Importing the basic libraries"
      ]
    },
    {
      "cell_type": "markdown",
      "metadata": {
        "id": "dMmAEqwATT68"
      },
      "source": [
        "Implementing Multiple Linear Regression to students dataset to predict the final grade of the students.\n",
        "\n",
        "In this model I'm using the Math subject dataset instead of the Portuguese subject.\n",
        "\n",
        "Data context: https://archive.ics.uci.edu/ml/datasets/Student+Performance"
      ]
    },
    {
      "cell_type": "code",
      "metadata": {
        "id": "Je9jpVz8FOrD"
      },
      "source": [
        "import numpy as np\n",
        "import matplotlib.pyplot as plt\n",
        "import pandas as pd\n",
        "from sklearn.preprocessing import LabelEncoder\n",
        "from sklearn.model_selection import train_test_split\n",
        "from sklearn.linear_model import LinearRegression\n",
        "from sklearn.preprocessing import PolynomialFeatures\n",
        "from sklearn.preprocessing import StandardScaler\n",
        "from sklearn.svm import SVR\n",
        "from sklearn.tree import DecisionTreeRegressor\n",
        "from sklearn.ensemble import RandomForestRegressor\n",
        "from sklearn.metrics import r2_score"
      ],
      "execution_count": 407,
      "outputs": []
    },
    {
      "cell_type": "markdown",
      "metadata": {
        "id": "KetjBun1ShHj"
      },
      "source": [
        "## Importing the dataset and applying LabelEncoder to the dataframe"
      ]
    },
    {
      "cell_type": "code",
      "metadata": {
        "id": "N8TyEN6sF_9Y"
      },
      "source": [
        "df = pd.read_csv('Student_Mat.csv')\n",
        "# df = df.apply(LabelEncoder().fit_transform)\n",
        "X = df.iloc[:,1:-1].values\n",
        "y = df.iloc[:,-1].values"
      ],
      "execution_count": 408,
      "outputs": []
    },
    {
      "cell_type": "code",
      "metadata": {
        "id": "OpCT0XxVN3-u",
        "outputId": "87dbae1e-fcea-4b87-85fc-2aa0268b0efd",
        "colab": {
          "base_uri": "https://localhost:8080/",
          "height": 218
        }
      },
      "source": [
        "df.head()"
      ],
      "execution_count": 409,
      "outputs": [
        {
          "output_type": "execute_result",
          "data": {
            "text/html": [
              "<div>\n",
              "<style scoped>\n",
              "    .dataframe tbody tr th:only-of-type {\n",
              "        vertical-align: middle;\n",
              "    }\n",
              "\n",
              "    .dataframe tbody tr th {\n",
              "        vertical-align: top;\n",
              "    }\n",
              "\n",
              "    .dataframe thead th {\n",
              "        text-align: right;\n",
              "    }\n",
              "</style>\n",
              "<table border=\"1\" class=\"dataframe\">\n",
              "  <thead>\n",
              "    <tr style=\"text-align: right;\">\n",
              "      <th></th>\n",
              "      <th>school</th>\n",
              "      <th>sex</th>\n",
              "      <th>age</th>\n",
              "      <th>address</th>\n",
              "      <th>famsize</th>\n",
              "      <th>Pstatus</th>\n",
              "      <th>Medu</th>\n",
              "      <th>Fedu</th>\n",
              "      <th>Mjob</th>\n",
              "      <th>Fjob</th>\n",
              "      <th>reason</th>\n",
              "      <th>guardian</th>\n",
              "      <th>traveltime</th>\n",
              "      <th>studytime</th>\n",
              "      <th>failures</th>\n",
              "      <th>schoolsup</th>\n",
              "      <th>famsup</th>\n",
              "      <th>paid</th>\n",
              "      <th>activities</th>\n",
              "      <th>nursery</th>\n",
              "      <th>higher</th>\n",
              "      <th>internet</th>\n",
              "      <th>romantic</th>\n",
              "      <th>famrel</th>\n",
              "      <th>freetime</th>\n",
              "      <th>goout</th>\n",
              "      <th>Dalc</th>\n",
              "      <th>Walc</th>\n",
              "      <th>health</th>\n",
              "      <th>absences</th>\n",
              "      <th>G1</th>\n",
              "      <th>G2</th>\n",
              "      <th>G3</th>\n",
              "    </tr>\n",
              "  </thead>\n",
              "  <tbody>\n",
              "    <tr>\n",
              "      <th>0</th>\n",
              "      <td>GP</td>\n",
              "      <td>F</td>\n",
              "      <td>18</td>\n",
              "      <td>U</td>\n",
              "      <td>GT3</td>\n",
              "      <td>A</td>\n",
              "      <td>4</td>\n",
              "      <td>4</td>\n",
              "      <td>at_home</td>\n",
              "      <td>teacher</td>\n",
              "      <td>course</td>\n",
              "      <td>mother</td>\n",
              "      <td>2</td>\n",
              "      <td>2</td>\n",
              "      <td>0</td>\n",
              "      <td>yes</td>\n",
              "      <td>no</td>\n",
              "      <td>no</td>\n",
              "      <td>no</td>\n",
              "      <td>yes</td>\n",
              "      <td>yes</td>\n",
              "      <td>no</td>\n",
              "      <td>no</td>\n",
              "      <td>4</td>\n",
              "      <td>3</td>\n",
              "      <td>4</td>\n",
              "      <td>1</td>\n",
              "      <td>1</td>\n",
              "      <td>3</td>\n",
              "      <td>6</td>\n",
              "      <td>5</td>\n",
              "      <td>6</td>\n",
              "      <td>6</td>\n",
              "    </tr>\n",
              "    <tr>\n",
              "      <th>1</th>\n",
              "      <td>GP</td>\n",
              "      <td>F</td>\n",
              "      <td>17</td>\n",
              "      <td>U</td>\n",
              "      <td>GT3</td>\n",
              "      <td>T</td>\n",
              "      <td>1</td>\n",
              "      <td>1</td>\n",
              "      <td>at_home</td>\n",
              "      <td>other</td>\n",
              "      <td>course</td>\n",
              "      <td>father</td>\n",
              "      <td>1</td>\n",
              "      <td>2</td>\n",
              "      <td>0</td>\n",
              "      <td>no</td>\n",
              "      <td>yes</td>\n",
              "      <td>no</td>\n",
              "      <td>no</td>\n",
              "      <td>no</td>\n",
              "      <td>yes</td>\n",
              "      <td>yes</td>\n",
              "      <td>no</td>\n",
              "      <td>5</td>\n",
              "      <td>3</td>\n",
              "      <td>3</td>\n",
              "      <td>1</td>\n",
              "      <td>1</td>\n",
              "      <td>3</td>\n",
              "      <td>4</td>\n",
              "      <td>5</td>\n",
              "      <td>5</td>\n",
              "      <td>6</td>\n",
              "    </tr>\n",
              "    <tr>\n",
              "      <th>2</th>\n",
              "      <td>GP</td>\n",
              "      <td>F</td>\n",
              "      <td>15</td>\n",
              "      <td>U</td>\n",
              "      <td>LE3</td>\n",
              "      <td>T</td>\n",
              "      <td>1</td>\n",
              "      <td>1</td>\n",
              "      <td>at_home</td>\n",
              "      <td>other</td>\n",
              "      <td>other</td>\n",
              "      <td>mother</td>\n",
              "      <td>1</td>\n",
              "      <td>2</td>\n",
              "      <td>3</td>\n",
              "      <td>yes</td>\n",
              "      <td>no</td>\n",
              "      <td>yes</td>\n",
              "      <td>no</td>\n",
              "      <td>yes</td>\n",
              "      <td>yes</td>\n",
              "      <td>yes</td>\n",
              "      <td>no</td>\n",
              "      <td>4</td>\n",
              "      <td>3</td>\n",
              "      <td>2</td>\n",
              "      <td>2</td>\n",
              "      <td>3</td>\n",
              "      <td>3</td>\n",
              "      <td>10</td>\n",
              "      <td>7</td>\n",
              "      <td>8</td>\n",
              "      <td>10</td>\n",
              "    </tr>\n",
              "    <tr>\n",
              "      <th>3</th>\n",
              "      <td>GP</td>\n",
              "      <td>F</td>\n",
              "      <td>15</td>\n",
              "      <td>U</td>\n",
              "      <td>GT3</td>\n",
              "      <td>T</td>\n",
              "      <td>4</td>\n",
              "      <td>2</td>\n",
              "      <td>health</td>\n",
              "      <td>services</td>\n",
              "      <td>home</td>\n",
              "      <td>mother</td>\n",
              "      <td>1</td>\n",
              "      <td>3</td>\n",
              "      <td>0</td>\n",
              "      <td>no</td>\n",
              "      <td>yes</td>\n",
              "      <td>yes</td>\n",
              "      <td>yes</td>\n",
              "      <td>yes</td>\n",
              "      <td>yes</td>\n",
              "      <td>yes</td>\n",
              "      <td>yes</td>\n",
              "      <td>3</td>\n",
              "      <td>2</td>\n",
              "      <td>2</td>\n",
              "      <td>1</td>\n",
              "      <td>1</td>\n",
              "      <td>5</td>\n",
              "      <td>2</td>\n",
              "      <td>15</td>\n",
              "      <td>14</td>\n",
              "      <td>15</td>\n",
              "    </tr>\n",
              "    <tr>\n",
              "      <th>4</th>\n",
              "      <td>GP</td>\n",
              "      <td>F</td>\n",
              "      <td>16</td>\n",
              "      <td>U</td>\n",
              "      <td>GT3</td>\n",
              "      <td>T</td>\n",
              "      <td>3</td>\n",
              "      <td>3</td>\n",
              "      <td>other</td>\n",
              "      <td>other</td>\n",
              "      <td>home</td>\n",
              "      <td>father</td>\n",
              "      <td>1</td>\n",
              "      <td>2</td>\n",
              "      <td>0</td>\n",
              "      <td>no</td>\n",
              "      <td>yes</td>\n",
              "      <td>yes</td>\n",
              "      <td>no</td>\n",
              "      <td>yes</td>\n",
              "      <td>yes</td>\n",
              "      <td>no</td>\n",
              "      <td>no</td>\n",
              "      <td>4</td>\n",
              "      <td>3</td>\n",
              "      <td>2</td>\n",
              "      <td>1</td>\n",
              "      <td>2</td>\n",
              "      <td>5</td>\n",
              "      <td>4</td>\n",
              "      <td>6</td>\n",
              "      <td>10</td>\n",
              "      <td>10</td>\n",
              "    </tr>\n",
              "  </tbody>\n",
              "</table>\n",
              "</div>"
            ],
            "text/plain": [
              "  school sex  age address famsize Pstatus  ...  Walc  health absences  G1  G2  G3\n",
              "0     GP   F   18       U     GT3       A  ...     1       3        6   5   6   6\n",
              "1     GP   F   17       U     GT3       T  ...     1       3        4   5   5   6\n",
              "2     GP   F   15       U     LE3       T  ...     3       3       10   7   8  10\n",
              "3     GP   F   15       U     GT3       T  ...     1       5        2  15  14  15\n",
              "4     GP   F   16       U     GT3       T  ...     2       5        4   6  10  10\n",
              "\n",
              "[5 rows x 33 columns]"
            ]
          },
          "metadata": {
            "tags": []
          },
          "execution_count": 409
        }
      ]
    },
    {
      "cell_type": "markdown",
      "metadata": {
        "id": "SAc5YDOPiUb3"
      },
      "source": [
        "## Encoding all categorical variables"
      ]
    },
    {
      "cell_type": "code",
      "metadata": {
        "id": "si6s4ZN1OtLO"
      },
      "source": [
        "le = LabelEncoder()\n",
        "X[:,0] = le.fit_transform(X[:,0])\n",
        "X[:,2] = le.fit_transform(X[:,2])\n",
        "X[:,3] = le.fit_transform(X[:,3])\n",
        "X[:,4] = le.fit_transform(X[:,4])\n",
        "X[:,7] = le.fit_transform(X[:,7])\n",
        "X[:,8] = le.fit_transform(X[:,8])\n",
        "X[:,9] = le.fit_transform(X[:,9])\n",
        "X[:,10] = le.fit_transform(X[:,10])\n",
        "X[:,14] = le.fit_transform(X[:,14])\n",
        "X[:,15] = le.fit_transform(X[:,15])\n",
        "X[:,16] = le.fit_transform(X[:,16])\n",
        "X[:,17] = le.fit_transform(X[:,17])\n",
        "X[:,18] = le.fit_transform(X[:,18])\n",
        "X[:,19] = le.fit_transform(X[:,19])\n",
        "X[:,20] = le.fit_transform(X[:,20])\n",
        "X[:,21] = le.fit_transform(X[:,21])"
      ],
      "execution_count": 410,
      "outputs": []
    },
    {
      "cell_type": "code",
      "metadata": {
        "id": "pgclNe2lO5-l",
        "outputId": "38cbcc0d-ff4d-42eb-a2a4-4af7cb1fbad5",
        "colab": {
          "base_uri": "https://localhost:8080/",
          "height": 198
        }
      },
      "source": [
        "df_X = pd.DataFrame(data=X[:,:],    # values\n",
        "                   index=X[:,0],    # 1st column as index\n",
        "                   columns=X[0,:])\n",
        "df_X.head()"
      ],
      "execution_count": 411,
      "outputs": [
        {
          "output_type": "execute_result",
          "data": {
            "text/html": [
              "<div>\n",
              "<style scoped>\n",
              "    .dataframe tbody tr th:only-of-type {\n",
              "        vertical-align: middle;\n",
              "    }\n",
              "\n",
              "    .dataframe tbody tr th {\n",
              "        vertical-align: top;\n",
              "    }\n",
              "\n",
              "    .dataframe thead th {\n",
              "        text-align: right;\n",
              "    }\n",
              "</style>\n",
              "<table border=\"1\" class=\"dataframe\">\n",
              "  <thead>\n",
              "    <tr style=\"text-align: right;\">\n",
              "      <th></th>\n",
              "      <th>0</th>\n",
              "      <th>18</th>\n",
              "      <th>1</th>\n",
              "      <th>0</th>\n",
              "      <th>0</th>\n",
              "      <th>4</th>\n",
              "      <th>4</th>\n",
              "      <th>0</th>\n",
              "      <th>4</th>\n",
              "      <th>0</th>\n",
              "      <th>1</th>\n",
              "      <th>2</th>\n",
              "      <th>2</th>\n",
              "      <th>0</th>\n",
              "      <th>1</th>\n",
              "      <th>0</th>\n",
              "      <th>0</th>\n",
              "      <th>0</th>\n",
              "      <th>1</th>\n",
              "      <th>1</th>\n",
              "      <th>0</th>\n",
              "      <th>0</th>\n",
              "      <th>4</th>\n",
              "      <th>3</th>\n",
              "      <th>4</th>\n",
              "      <th>1</th>\n",
              "      <th>1</th>\n",
              "      <th>3</th>\n",
              "      <th>6</th>\n",
              "      <th>5</th>\n",
              "      <th>6</th>\n",
              "    </tr>\n",
              "  </thead>\n",
              "  <tbody>\n",
              "    <tr>\n",
              "      <th>0</th>\n",
              "      <td>0</td>\n",
              "      <td>18</td>\n",
              "      <td>1</td>\n",
              "      <td>0</td>\n",
              "      <td>0</td>\n",
              "      <td>4</td>\n",
              "      <td>4</td>\n",
              "      <td>0</td>\n",
              "      <td>4</td>\n",
              "      <td>0</td>\n",
              "      <td>1</td>\n",
              "      <td>2</td>\n",
              "      <td>2</td>\n",
              "      <td>0</td>\n",
              "      <td>1</td>\n",
              "      <td>0</td>\n",
              "      <td>0</td>\n",
              "      <td>0</td>\n",
              "      <td>1</td>\n",
              "      <td>1</td>\n",
              "      <td>0</td>\n",
              "      <td>0</td>\n",
              "      <td>4</td>\n",
              "      <td>3</td>\n",
              "      <td>4</td>\n",
              "      <td>1</td>\n",
              "      <td>1</td>\n",
              "      <td>3</td>\n",
              "      <td>6</td>\n",
              "      <td>5</td>\n",
              "      <td>6</td>\n",
              "    </tr>\n",
              "    <tr>\n",
              "      <th>0</th>\n",
              "      <td>0</td>\n",
              "      <td>17</td>\n",
              "      <td>1</td>\n",
              "      <td>0</td>\n",
              "      <td>1</td>\n",
              "      <td>1</td>\n",
              "      <td>1</td>\n",
              "      <td>0</td>\n",
              "      <td>2</td>\n",
              "      <td>0</td>\n",
              "      <td>0</td>\n",
              "      <td>1</td>\n",
              "      <td>2</td>\n",
              "      <td>0</td>\n",
              "      <td>0</td>\n",
              "      <td>1</td>\n",
              "      <td>0</td>\n",
              "      <td>0</td>\n",
              "      <td>0</td>\n",
              "      <td>1</td>\n",
              "      <td>1</td>\n",
              "      <td>0</td>\n",
              "      <td>5</td>\n",
              "      <td>3</td>\n",
              "      <td>3</td>\n",
              "      <td>1</td>\n",
              "      <td>1</td>\n",
              "      <td>3</td>\n",
              "      <td>4</td>\n",
              "      <td>5</td>\n",
              "      <td>5</td>\n",
              "    </tr>\n",
              "    <tr>\n",
              "      <th>0</th>\n",
              "      <td>0</td>\n",
              "      <td>15</td>\n",
              "      <td>1</td>\n",
              "      <td>1</td>\n",
              "      <td>1</td>\n",
              "      <td>1</td>\n",
              "      <td>1</td>\n",
              "      <td>0</td>\n",
              "      <td>2</td>\n",
              "      <td>2</td>\n",
              "      <td>1</td>\n",
              "      <td>1</td>\n",
              "      <td>2</td>\n",
              "      <td>3</td>\n",
              "      <td>1</td>\n",
              "      <td>0</td>\n",
              "      <td>1</td>\n",
              "      <td>0</td>\n",
              "      <td>1</td>\n",
              "      <td>1</td>\n",
              "      <td>1</td>\n",
              "      <td>0</td>\n",
              "      <td>4</td>\n",
              "      <td>3</td>\n",
              "      <td>2</td>\n",
              "      <td>2</td>\n",
              "      <td>3</td>\n",
              "      <td>3</td>\n",
              "      <td>10</td>\n",
              "      <td>7</td>\n",
              "      <td>8</td>\n",
              "    </tr>\n",
              "    <tr>\n",
              "      <th>0</th>\n",
              "      <td>0</td>\n",
              "      <td>15</td>\n",
              "      <td>1</td>\n",
              "      <td>0</td>\n",
              "      <td>1</td>\n",
              "      <td>4</td>\n",
              "      <td>2</td>\n",
              "      <td>1</td>\n",
              "      <td>3</td>\n",
              "      <td>1</td>\n",
              "      <td>1</td>\n",
              "      <td>1</td>\n",
              "      <td>3</td>\n",
              "      <td>0</td>\n",
              "      <td>0</td>\n",
              "      <td>1</td>\n",
              "      <td>1</td>\n",
              "      <td>1</td>\n",
              "      <td>1</td>\n",
              "      <td>1</td>\n",
              "      <td>1</td>\n",
              "      <td>1</td>\n",
              "      <td>3</td>\n",
              "      <td>2</td>\n",
              "      <td>2</td>\n",
              "      <td>1</td>\n",
              "      <td>1</td>\n",
              "      <td>5</td>\n",
              "      <td>2</td>\n",
              "      <td>15</td>\n",
              "      <td>14</td>\n",
              "    </tr>\n",
              "    <tr>\n",
              "      <th>0</th>\n",
              "      <td>0</td>\n",
              "      <td>16</td>\n",
              "      <td>1</td>\n",
              "      <td>0</td>\n",
              "      <td>1</td>\n",
              "      <td>3</td>\n",
              "      <td>3</td>\n",
              "      <td>2</td>\n",
              "      <td>2</td>\n",
              "      <td>1</td>\n",
              "      <td>0</td>\n",
              "      <td>1</td>\n",
              "      <td>2</td>\n",
              "      <td>0</td>\n",
              "      <td>0</td>\n",
              "      <td>1</td>\n",
              "      <td>1</td>\n",
              "      <td>0</td>\n",
              "      <td>1</td>\n",
              "      <td>1</td>\n",
              "      <td>0</td>\n",
              "      <td>0</td>\n",
              "      <td>4</td>\n",
              "      <td>3</td>\n",
              "      <td>2</td>\n",
              "      <td>1</td>\n",
              "      <td>2</td>\n",
              "      <td>5</td>\n",
              "      <td>4</td>\n",
              "      <td>6</td>\n",
              "      <td>10</td>\n",
              "    </tr>\n",
              "  </tbody>\n",
              "</table>\n",
              "</div>"
            ],
            "text/plain": [
              "  0   18 1  0  0  4  4  0  4  0  1  2   ... 1  0  0  4  3  4  1  1  3   6   5   6 \n",
              "0  0  18  1  0  0  4  4  0  4  0  1  2  ...  1  0  0  4  3  4  1  1  3   6   5   6\n",
              "0  0  17  1  0  1  1  1  0  2  0  0  1  ...  1  1  0  5  3  3  1  1  3   4   5   5\n",
              "0  0  15  1  1  1  1  1  0  2  2  1  1  ...  1  1  0  4  3  2  2  3  3  10   7   8\n",
              "0  0  15  1  0  1  4  2  1  3  1  1  1  ...  1  1  1  3  2  2  1  1  5   2  15  14\n",
              "0  0  16  1  0  1  3  3  2  2  1  0  1  ...  1  0  0  4  3  2  1  2  5   4   6  10\n",
              "\n",
              "[5 rows x 31 columns]"
            ]
          },
          "metadata": {
            "tags": []
          },
          "execution_count": 411
        }
      ]
    },
    {
      "cell_type": "markdown",
      "metadata": {
        "id": "xSdj0WuiSz88"
      },
      "source": [
        "## Splitting the dataset into training set and test set with test_size = 0.5"
      ]
    },
    {
      "cell_type": "code",
      "metadata": {
        "id": "CHynu8bNI72S"
      },
      "source": [
        "X_train, X_test, y_train, y_test = train_test_split(X, y, test_size = 0.1, random_state = 0)"
      ],
      "execution_count": 412,
      "outputs": []
    },
    {
      "cell_type": "markdown",
      "metadata": {
        "id": "6YPv18asSHMg"
      },
      "source": [
        "### Multiple Linear Regression"
      ]
    },
    {
      "cell_type": "markdown",
      "metadata": {
        "id": "V9xj6sT4S_Bn"
      },
      "source": [
        "## Train the model using Multiple Linear Regression"
      ]
    },
    {
      "cell_type": "code",
      "metadata": {
        "id": "QHZqpfTvJI1I",
        "outputId": "f7bf31bd-c495-4365-ba67-c1bde4506746",
        "colab": {
          "base_uri": "https://localhost:8080/",
          "height": 35
        }
      },
      "source": [
        "lin_reg = LinearRegression()\n",
        "lin_reg.fit(X_train,y_train)"
      ],
      "execution_count": 413,
      "outputs": [
        {
          "output_type": "execute_result",
          "data": {
            "text/plain": [
              "LinearRegression(copy_X=True, fit_intercept=True, n_jobs=None, normalize=False)"
            ]
          },
          "metadata": {
            "tags": []
          },
          "execution_count": 413
        }
      ]
    },
    {
      "cell_type": "markdown",
      "metadata": {
        "id": "lyYh8X32TGNB"
      },
      "source": [
        "## Training accuracy"
      ]
    },
    {
      "cell_type": "code",
      "metadata": {
        "id": "p44adM5uJVuW",
        "outputId": "24ab5532-35a9-4723-a109-8bcc4494d929",
        "colab": {
          "base_uri": "https://localhost:8080/",
          "height": 35
        }
      },
      "source": [
        "r2_score(lin_reg.predict(X_train),y_train)"
      ],
      "execution_count": 414,
      "outputs": [
        {
          "output_type": "execute_result",
          "data": {
            "text/plain": [
              "0.8165630578381727"
            ]
          },
          "metadata": {
            "tags": []
          },
          "execution_count": 414
        }
      ]
    },
    {
      "cell_type": "markdown",
      "metadata": {
        "id": "C4d6MElJTNsz"
      },
      "source": [
        "## Test Accuracy"
      ]
    },
    {
      "cell_type": "code",
      "metadata": {
        "id": "PPfhkCNjSLp_",
        "outputId": "489e61ff-625d-4370-b7a4-9974874999dd",
        "colab": {
          "base_uri": "https://localhost:8080/",
          "height": 35
        }
      },
      "source": [
        "r2_score(lin_reg.predict(X_test),y_test)"
      ],
      "execution_count": 415,
      "outputs": [
        {
          "output_type": "execute_result",
          "data": {
            "text/plain": [
              "0.7884611134942466"
            ]
          },
          "metadata": {
            "tags": []
          },
          "execution_count": 415
        }
      ]
    },
    {
      "cell_type": "markdown",
      "metadata": {
        "id": "aF85hT0hSPd4"
      },
      "source": [
        "### Polynomial Regression"
      ]
    },
    {
      "cell_type": "code",
      "metadata": {
        "id": "Ue021U79Sd_q"
      },
      "source": [
        "poly_regressor = PolynomialFeatures(degree = 3)\n",
        "X_poly = poly_regressor.fit_transform(X)"
      ],
      "execution_count": 462,
      "outputs": []
    },
    {
      "cell_type": "code",
      "metadata": {
        "id": "HIQ7UyMpS3-o"
      },
      "source": [
        "X_poly_train, X_poly_test, y_train, y_test = train_test_split(X_poly, y, test_size = 0.7, random_state = 0)"
      ],
      "execution_count": 463,
      "outputs": []
    },
    {
      "cell_type": "code",
      "metadata": {
        "id": "JWkSAGorTH8P",
        "outputId": "c83156c7-9fbb-45e9-f509-d6407c7981c4",
        "colab": {
          "base_uri": "https://localhost:8080/",
          "height": 35
        }
      },
      "source": [
        "lin_reg_2 = LinearRegression()\n",
        "lin_reg_2.fit(X_poly_train,y_train)"
      ],
      "execution_count": 464,
      "outputs": [
        {
          "output_type": "execute_result",
          "data": {
            "text/plain": [
              "LinearRegression(copy_X=True, fit_intercept=True, n_jobs=None, normalize=False)"
            ]
          },
          "metadata": {
            "tags": []
          },
          "execution_count": 464
        }
      ]
    },
    {
      "cell_type": "markdown",
      "metadata": {
        "id": "OWbjLOQEnRbf"
      },
      "source": [
        "## Train Accuracy"
      ]
    },
    {
      "cell_type": "code",
      "metadata": {
        "id": "rkHWVQvDThEK",
        "outputId": "df762dc6-f580-4a9e-ead1-8e1b06bb76e2",
        "colab": {
          "base_uri": "https://localhost:8080/",
          "height": 35
        }
      },
      "source": [
        "r2_score(lin_reg_2.predict(X_poly_train),y_train)"
      ],
      "execution_count": 465,
      "outputs": [
        {
          "output_type": "execute_result",
          "data": {
            "text/plain": [
              "1.0"
            ]
          },
          "metadata": {
            "tags": []
          },
          "execution_count": 465
        }
      ]
    },
    {
      "cell_type": "markdown",
      "metadata": {
        "id": "iXhacn-BnTqX"
      },
      "source": [
        "## Test Accuracy"
      ]
    },
    {
      "cell_type": "code",
      "metadata": {
        "id": "XVqSzNvqTlvm",
        "outputId": "6fd9fcbf-46f7-47ae-8a01-251cc68ae524",
        "colab": {
          "base_uri": "https://localhost:8080/",
          "height": 35
        }
      },
      "source": [
        "r2_score(lin_reg_2.predict(X_poly_test),y_test) "
      ],
      "execution_count": 466,
      "outputs": [
        {
          "output_type": "execute_result",
          "data": {
            "text/plain": [
              "0.6970649421690083"
            ]
          },
          "metadata": {
            "tags": []
          },
          "execution_count": 466
        }
      ]
    },
    {
      "cell_type": "markdown",
      "metadata": {
        "id": "M6r5VlsFnVu9"
      },
      "source": [
        "Overfitting"
      ]
    },
    {
      "cell_type": "markdown",
      "metadata": {
        "id": "FXMl0QjGT6EE"
      },
      "source": [
        "### SVR"
      ]
    },
    {
      "cell_type": "code",
      "metadata": {
        "id": "y9PIAygzUukS"
      },
      "source": [
        "y_train_reshape = y_train.reshape(len(y_train),1)\n",
        "y_test_reshape = y_test.reshape(len(y_test),1)"
      ],
      "execution_count": 421,
      "outputs": []
    },
    {
      "cell_type": "code",
      "metadata": {
        "id": "7p7wAWMmUaeK"
      },
      "source": [
        "sc_X = StandardScaler()\n",
        "sc_y = StandardScaler()\n",
        "X_train_reshape = sc_X.fit_transform(X_train)\n",
        "y_train_reshape = sc_y.fit_transform(y_train_reshape)"
      ],
      "execution_count": 422,
      "outputs": []
    },
    {
      "cell_type": "code",
      "metadata": {
        "id": "zinYDrhoVETJ",
        "outputId": "c5c10ae3-c247-4513-a6cc-cc738139d3f1",
        "colab": {
          "base_uri": "https://localhost:8080/",
          "height": 106
        }
      },
      "source": [
        "svr = SVR(kernel = 'rbf')\n",
        "svr.fit(X_train_reshape, y_train_reshape)"
      ],
      "execution_count": 423,
      "outputs": [
        {
          "output_type": "stream",
          "text": [
            "/usr/local/lib/python3.6/dist-packages/sklearn/utils/validation.py:760: DataConversionWarning: A column-vector y was passed when a 1d array was expected. Please change the shape of y to (n_samples, ), for example using ravel().\n",
            "  y = column_or_1d(y, warn=True)\n"
          ],
          "name": "stderr"
        },
        {
          "output_type": "execute_result",
          "data": {
            "text/plain": [
              "SVR(C=1.0, cache_size=200, coef0=0.0, degree=3, epsilon=0.1, gamma='scale',\n",
              "    kernel='rbf', max_iter=-1, shrinking=True, tol=0.001, verbose=False)"
            ]
          },
          "metadata": {
            "tags": []
          },
          "execution_count": 423
        }
      ]
    },
    {
      "cell_type": "markdown",
      "metadata": {
        "id": "Q3IXPeXtnKj_"
      },
      "source": [
        "## Train Accuracy"
      ]
    },
    {
      "cell_type": "code",
      "metadata": {
        "id": "9banWAwaVN37",
        "outputId": "4617f36d-facc-4740-ec3f-25015caadbeb",
        "colab": {
          "base_uri": "https://localhost:8080/",
          "height": 35
        }
      },
      "source": [
        "y_pred_train = sc_y.inverse_transform(svr.predict(X_train_reshape))\n",
        "r2_score(y_pred_train,y_train)"
      ],
      "execution_count": 424,
      "outputs": [
        {
          "output_type": "execute_result",
          "data": {
            "text/plain": [
              "0.8907080768062543"
            ]
          },
          "metadata": {
            "tags": []
          },
          "execution_count": 424
        }
      ]
    },
    {
      "cell_type": "markdown",
      "metadata": {
        "id": "d0IDvT2qnMiE"
      },
      "source": [
        "## Test Accuracy"
      ]
    },
    {
      "cell_type": "code",
      "metadata": {
        "id": "Oi6NIDkgXPIO",
        "outputId": "9d38bb4e-e7ae-4dd9-b146-438aca79c1d9",
        "colab": {
          "base_uri": "https://localhost:8080/",
          "height": 35
        }
      },
      "source": [
        "y_pred_test = sc_y.inverse_transform(svr.predict(sc_X.transform(X_test)))\n",
        "r2_score(y_pred_test,y_test) #Overfitting"
      ],
      "execution_count": 425,
      "outputs": [
        {
          "output_type": "execute_result",
          "data": {
            "text/plain": [
              "0.4971919208562958"
            ]
          },
          "metadata": {
            "tags": []
          },
          "execution_count": 425
        }
      ]
    },
    {
      "cell_type": "markdown",
      "metadata": {
        "id": "FuPfN62DnOCi"
      },
      "source": [
        "Overfitting"
      ]
    },
    {
      "cell_type": "markdown",
      "metadata": {
        "id": "KZO8Nku3bfDq"
      },
      "source": [
        "## Decission Tree Regression\n"
      ]
    },
    {
      "cell_type": "code",
      "metadata": {
        "id": "C3iJ7NR7biiH",
        "outputId": "3f0ed4ed-4bf7-4cc3-d579-3549c5939317",
        "colab": {
          "base_uri": "https://localhost:8080/",
          "height": 121
        }
      },
      "source": [
        "dtr = DecisionTreeRegressor(random_state = 0)\n",
        "dtr.fit(X_train,y_train)"
      ],
      "execution_count": 426,
      "outputs": [
        {
          "output_type": "execute_result",
          "data": {
            "text/plain": [
              "DecisionTreeRegressor(ccp_alpha=0.0, criterion='mse', max_depth=None,\n",
              "                      max_features=None, max_leaf_nodes=None,\n",
              "                      min_impurity_decrease=0.0, min_impurity_split=None,\n",
              "                      min_samples_leaf=1, min_samples_split=2,\n",
              "                      min_weight_fraction_leaf=0.0, presort='deprecated',\n",
              "                      random_state=0, splitter='best')"
            ]
          },
          "metadata": {
            "tags": []
          },
          "execution_count": 426
        }
      ]
    },
    {
      "cell_type": "markdown",
      "metadata": {
        "id": "tkPhGpDUnCob"
      },
      "source": [
        "## Training Accuracy"
      ]
    },
    {
      "cell_type": "code",
      "metadata": {
        "id": "4Yz0MSy0bt39",
        "outputId": "37c9dbf3-581d-4fbf-bcc8-a592424d2d01",
        "colab": {
          "base_uri": "https://localhost:8080/",
          "height": 35
        }
      },
      "source": [
        "r2_score(dtr.predict(X_train),y_train)"
      ],
      "execution_count": 427,
      "outputs": [
        {
          "output_type": "execute_result",
          "data": {
            "text/plain": [
              "1.0"
            ]
          },
          "metadata": {
            "tags": []
          },
          "execution_count": 427
        }
      ]
    },
    {
      "cell_type": "markdown",
      "metadata": {
        "id": "o3mjBhXbnFOO"
      },
      "source": [
        "## Test Accuracy"
      ]
    },
    {
      "cell_type": "code",
      "metadata": {
        "id": "GAM99sPBbzX8",
        "outputId": "9147cc60-41d8-4146-ee08-0aa256ea21c7",
        "colab": {
          "base_uri": "https://localhost:8080/",
          "height": 35
        }
      },
      "source": [
        "r2_score(dtr.predict(X_test),y_test) "
      ],
      "execution_count": 428,
      "outputs": [
        {
          "output_type": "execute_result",
          "data": {
            "text/plain": [
              "0.763424389413667"
            ]
          },
          "metadata": {
            "tags": []
          },
          "execution_count": 428
        }
      ]
    },
    {
      "cell_type": "markdown",
      "metadata": {
        "id": "3TYucHa4nH3w"
      },
      "source": [
        "Overfitting"
      ]
    },
    {
      "cell_type": "markdown",
      "metadata": {
        "id": "9_NiRTw-ca0l"
      },
      "source": [
        "## Random Forest Regression (Best Result)"
      ]
    },
    {
      "cell_type": "code",
      "metadata": {
        "id": "T1LKeXj5caK3",
        "outputId": "03412e70-0ad2-4d95-b80d-1030d18bfeb2",
        "colab": {
          "base_uri": "https://localhost:8080/",
          "height": 138
        }
      },
      "source": [
        "rfr = RandomForestRegressor(n_estimators = 100, random_state = 0)\n",
        "rfr.fit(X_train,y_train)"
      ],
      "execution_count": 429,
      "outputs": [
        {
          "output_type": "execute_result",
          "data": {
            "text/plain": [
              "RandomForestRegressor(bootstrap=True, ccp_alpha=0.0, criterion='mse',\n",
              "                      max_depth=None, max_features='auto', max_leaf_nodes=None,\n",
              "                      max_samples=None, min_impurity_decrease=0.0,\n",
              "                      min_impurity_split=None, min_samples_leaf=1,\n",
              "                      min_samples_split=2, min_weight_fraction_leaf=0.0,\n",
              "                      n_estimators=100, n_jobs=None, oob_score=False,\n",
              "                      random_state=0, verbose=0, warm_start=False)"
            ]
          },
          "metadata": {
            "tags": []
          },
          "execution_count": 429
        }
      ]
    },
    {
      "cell_type": "markdown",
      "metadata": {
        "id": "UP7noDDec3_a"
      },
      "source": [
        "# Training Accuracy"
      ]
    },
    {
      "cell_type": "code",
      "metadata": {
        "id": "-WNnysZucuVs",
        "outputId": "124a576e-35b3-4e41-d389-e1fc68159c35",
        "colab": {
          "base_uri": "https://localhost:8080/",
          "height": 35
        }
      },
      "source": [
        "r2_score(rfr.predict(X_train),y_train)"
      ],
      "execution_count": 430,
      "outputs": [
        {
          "output_type": "execute_result",
          "data": {
            "text/plain": [
              "0.9794500836272341"
            ]
          },
          "metadata": {
            "tags": []
          },
          "execution_count": 430
        }
      ]
    },
    {
      "cell_type": "markdown",
      "metadata": {
        "id": "0lT3TL6Hc6kX"
      },
      "source": [
        "# Test Accuracy (Best Result)"
      ]
    },
    {
      "cell_type": "code",
      "metadata": {
        "id": "3qSRAtNncypH",
        "outputId": "0c26719e-9ac3-4a19-cb08-3e78b8c4ce6f",
        "colab": {
          "base_uri": "https://localhost:8080/",
          "height": 35
        }
      },
      "source": [
        "r2_score(rfr.predict(X_test),y_test)"
      ],
      "execution_count": 431,
      "outputs": [
        {
          "output_type": "execute_result",
          "data": {
            "text/plain": [
              "0.8377044484888012"
            ]
          },
          "metadata": {
            "tags": []
          },
          "execution_count": 431
        }
      ]
    }
  ]
}